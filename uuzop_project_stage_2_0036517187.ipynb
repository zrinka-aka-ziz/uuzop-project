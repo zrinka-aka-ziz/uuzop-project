{
  "nbformat": 4,
  "nbformat_minor": 0,
  "metadata": {
    "colab": {
      "provenance": []
    },
    "kernelspec": {
      "name": "python3",
      "display_name": "Python 3"
    },
    "language_info": {
      "name": "python"
    }
  },
  "cells": [
    {
      "cell_type": "markdown",
      "source": [
        "Zrinka Pećanić<br>\n",
        "*0036517187*<br>\n",
        "*FER*<br>\n",
        "\n",
        "**Predmet: Uvod u znanost o podacima**<br>\n",
        "<br>\n",
        "Naziv članka: *A Machine Learning Approach for the \n",
        "Classification of Cardiac Arrhythmia* <br>\n",
        "\n"
      ],
      "metadata": {
        "id": "xnoJ8mPVc7qh"
      }
    },
    {
      "cell_type": "markdown",
      "source": [
        "**2. faza projekta**<br><br>\n",
        "Ciljevi: \n",
        "\n",
        "\n",
        "*   napraviti PCA\n",
        "*   napraviti klasifikaciju koristeći SVM, LR, RF, K-nn i dobiti rezultate kao u članku (ili slično tome)"
      ],
      "metadata": {
        "id": "jDcqY9eueDju"
      }
    },
    {
      "cell_type": "code",
      "source": [
        "# importing libraries\n",
        "import numpy as np\n",
        "import pandas as pd\n",
        "import sklearn\n",
        "import scipy as sp\n",
        "from sklearn.ensemble import RandomForestClassifier, ExtraTreesClassifier\n",
        "from sklearn.metrics import accuracy_score, confusion_matrix\n",
        "from sklearn.model_selection import train_test_split\n",
        "from sklearn.preprocessing import OneHotEncoder, LabelEncoder\n",
        "from sklearn.model_selection import cross_val_score\n",
        "from sklearn.feature_selection import SelectKBest, mutual_info_classif\n",
        "from sklearn.linear_model import LinearRegression, RidgeClassifier\n",
        "from sklearn.linear_model import LogisticRegression\n",
        "import matplotlib.pyplot as plt\n",
        "import seaborn as sns\n",
        "import csv\n",
        "from sklearn.svm import SVC\n"
      ],
      "metadata": {
        "id": "p9uOETUEylNN"
      },
      "execution_count": 1,
      "outputs": []
    },
    {
      "cell_type": "code",
      "source": [
        "# ucitavanje obradenog (ociscenog) dataseta data_edited.csv\n",
        "\n",
        "u_data = pd.read_csv('/content/data_edited.csv')\n",
        "print(len(u_data)) #broj primjera\n",
        "print(len(u_data.columns)) #broj znacajki\n",
        "\n",
        "#trebamo izbaciti zadnju kolonu Class i ona je naš y, ostalih 278 je X"
      ],
      "metadata": {
        "colab": {
          "base_uri": "https://localhost:8080/"
        },
        "id": "XbSxNqQrzp_q",
        "outputId": "bd1a3a27-a85e-4dfe-fc58-74986bd8b64a"
      },
      "execution_count": 2,
      "outputs": [
        {
          "output_type": "stream",
          "name": "stdout",
          "text": [
            "452\n",
            "279\n"
          ]
        }
      ]
    },
    {
      "cell_type": "code",
      "source": [
        "#lista naziva kolona\n",
        "features = ['Age', 'Sex', 'Height', 'Weight', 'QRSduration', 'PRinterval', 'QTinterval', 'Tinterval', 'Pinterval', 'QRSangle', 'Tangle', 'Pangle', 'QRSTangle', 'HeartRate', 'DIQwidth', 'DIRwidth', 'DISwidth', 'DISmallRwidth', 'DISmallSwidth', 'DIIntDeflNum', 'DIRaggedR', 'DIDiphasicR', 'DIRaggedP', 'DIDiphasicP', 'DIRaggedT', 'DIDiphasicT', 'DIIQwidth', 'DIIRwidth', 'DIISwidth', 'DIISmallRwidth', 'DIISmallSwidth', 'DIIIntDeflNum', 'DIIRaggedR', 'DIIDiphasicR', 'DIIRaggedP', 'DIIDiphasicP', 'DIIRaggedT', 'DIIDiphasicT', 'DIIIQwidth', 'DIIIRwidth', 'DIIISwidth', 'DIIISmallRwidth', 'DIIISmallSwidth', 'DIIIIntDeflNum', 'DIIIRaggedR', 'DIIIDiphasicR', 'DIIIRaggedP', 'DIIIDiphasicP', 'DIIIRaggedT', 'DIIIDiphasicT', 'AVRQwidth', 'AVRRwidth', 'AVRSwidth', 'AVRSmallRwidth', 'AVRSmallSwidth', 'AVRIntDeflNum', 'AVRRaggedR', 'AVRDiphasicR', 'AVRRaggedP', 'AVRDiphasicP', 'AVRRaggedT', 'AVRDiphasicT', 'AVLQwidth', 'AVLRwidth', 'AVLSwidth', 'AVLSmallRwidth', 'AVLSmallSwidth', 'AVLIntDeflNum', 'AVLRaggedR', 'AVLDiphasicR', 'AVLRaggedP', 'AVLDiphasicP', 'AVLRaggedT', 'AVLDiphasicT', 'AVFQwidth', 'AVFRwidth', 'AVFSwidth', 'AVFSmallRwidth', 'AVFSmallSwidth', 'AVFIntDeflNum', 'AVFRaggedR', 'AVFDiphasicR', 'AVFRaggedP', 'AVFDiphasicP', 'AVFRaggedT', 'AVFDiphasicT', 'V1Qwidth', 'V1Rwidth', 'V1Swidth', 'V1SmallRwidth', 'V1SmallSwidth', 'V1IntDeflNum', 'V1RaggedR', 'V1DiphasicR', 'V1RaggedP', 'V1DiphasicP', 'V1RaggedT', 'V1DiphasicT', 'V2Qwidth', 'V2Rwidth', 'V2Swidth', 'V2SmallRwidth', 'V2SmallSwidth', 'V2IntDeflNum', 'V2RaggedR', 'V2DiphasicR', 'V2RaggedP', 'V2DiphasicP', 'V2RaggedT', 'V2DiphasicT', 'V3Qwidth', 'V3Rwidth', 'V3Swidth', 'V3SmallRwidth', 'V3SmallSwidth', 'V3IntDeflNum', 'V3RaggedR', 'V3DiphasicR', 'V3RaggedP', 'V3DiphasicP', 'V3RaggedT', 'V3DiphasicT', 'V4Qwidth', 'V4Rwidth', 'V4Swidth', 'V4SmallRwidth', 'V4SmallSwidth', 'V4IntDeflNum', 'V4RaggedR', 'V4DiphasicR', 'V4RaggedP', 'V4DiphasicP', 'V4RaggedT', 'V4DiphasicT', 'V5Qwidth', 'V5Rwidth', 'V5Swidth', 'V5SmallRwidth', 'V5SmallSwidth', 'V5IntDeflNum', 'V5RaggedR', 'V5DiphasicR', 'V5RaggedP', 'V5DiphasicP', 'V5RaggedT', 'V5DiphasicT', 'V6Qwidth', 'V6Rwidth', 'V6Swidth', 'V6SmallRwidth', 'V6SmallSwidth', 'V6IntDeflNum', 'V6RaggedR', 'V6DiphasicR', 'V6RaggedP', 'V6DiphasicP', 'V6RaggedT', 'V6DiphasicT', 'DIJJamp', 'DIQamp', 'DIRamp', 'DISamp', 'DISmallRamp', 'DISmallSamp', 'DIPamp', 'DITamp', 'DIQRSA', 'DIQRSTA', 'DIIJJamp', 'DIIQamp', 'DIIRamp', 'DIISamp', 'DIISmallRamp', 'DIISmallSamp', 'DIIPamp', 'DIITamp', 'DIIQRSA', 'DIIQRSTA', 'DIIIJJamp', 'DIIIQamp', 'DIIIRamp', 'DIIISamp', 'DIIISmallRamp', 'DIIISmallSamp', 'DIIIPamp', 'DIIITamp', 'DIIIQRSA', 'DIIIQRSTA', 'AVRJJamp', 'AVRQamp', 'AVRRamp', 'AVRSamp', 'AVRSmallRamp', 'AVRSmallSamp', 'AVRPamp', 'AVRTamp', 'AVRQRSA', 'AVRQRSTA', 'AVLJJamp', 'AVLQamp', 'AVLRamp', 'AVLSamp', 'AVLSmallRamp', 'AVLSmallSamp', 'AVLPamp', 'AVLTamp', 'AVLQRSA', 'AVLQRSTA', 'AVFJJamp', 'AVFQamp', 'AVFRamp', 'AVFSamp', 'AVFSmallRamp', 'AVFSmallSamp', 'AVFPamp', 'AVFTamp', 'AVFQRSA', 'AVFQRSTA', 'V1JJamp', 'V1Qamp', 'V1Ramp', 'V1Samp', 'V1SmallRamp', 'V1SmallSamp', 'V1Pamp', 'V1Tamp', 'V1QRSA', 'V1QRSTA', 'V2JJamp', 'V2Qamp', 'V2Ramp', 'V2Samp', 'V2SmallRamp', 'V2SmallSamp', 'V2Pamp', 'V2Tamp', 'V2QRSA', 'V2QRSTA', 'V3JJamp', 'V3Qamp', 'V3Ramp', 'V3Samp', 'V3SmallRamp', 'V3SmallSamp', 'V3Pamp', 'V3Tamp', 'V3QRSA', 'V3QRSTA', 'V4JJamp', 'V4Qamp', 'V4Ramp', 'V4Samp', 'V4SmallRamp', 'V4SmallSamp', 'V4Pamp', 'V4Tamp', 'V4QRSA', 'V4QRSTA', 'V5JJamp', 'V5Qamp', 'V5Ramp', 'V5Samp', 'V5SmallRamp', 'V5SmallSamp', 'V5Pamp', 'V5Tamp', 'V5QRSA', 'V5QRSTA', 'V6JJamp', 'V6Qamp', 'V6Ramp', 'V6Samp', 'V6SmallRamp', 'V6SmallSamp', 'V6Pamp', 'V6Tamp', 'V6QRSA', 'V6QRSTA']\n",
        "X = u_data.loc[:, features].values\n",
        "\n",
        "y = u_data.loc[:,['Class']].values\n",
        "\n",
        "#print(len(X)) \n",
        "print(X.shape)\n",
        "#print(len(y))\n",
        "print(y.shape)\n",
        "#print(X)\n",
        "#print(y)"
      ],
      "metadata": {
        "colab": {
          "base_uri": "https://localhost:8080/"
        },
        "id": "8sEwoW7O00nh",
        "outputId": "baa97af9-e0a4-46e2-86f6-963cb30b2835"
      },
      "execution_count": 3,
      "outputs": [
        {
          "output_type": "stream",
          "name": "stdout",
          "text": [
            "(452, 278)\n",
            "(452, 1)\n"
          ]
        }
      ]
    },
    {
      "cell_type": "markdown",
      "source": [
        "Sada ćemo najprije skalirati sve podatke koristeći StandardScaler."
      ],
      "metadata": {
        "id": "afDwOrLk9E-P"
      }
    },
    {
      "cell_type": "code",
      "source": [
        "# data scaling za sve podatke\n",
        "from sklearn.preprocessing import StandardScaler\n",
        "X_scaled = StandardScaler().fit_transform(X)"
      ],
      "metadata": {
        "id": "nmogmwgr7qKk"
      },
      "execution_count": 4,
      "outputs": []
    },
    {
      "cell_type": "markdown",
      "source": [
        "Radimo PC analizu, nad svim komponentama. Zatim ćemo napraviti scree plot da vidimo koliko nam je komponenata zaista potrebno i možemo li smanjiti dimenzionalnost ulaznog skupa podataka."
      ],
      "metadata": {
        "id": "YFWgkLgy9OgR"
      }
    },
    {
      "cell_type": "code",
      "source": [
        "from sklearn.decomposition import PCA\n",
        "sns.set()\n",
        " \n",
        "#PCA za sve znacajke\n",
        "pca1 = PCA(n_components=278)\n",
        " \n",
        "# Fit and transform data\n",
        "X_pca = pca1.fit_transform(X_scaled)\n",
        "\n",
        "plt.plot(\n",
        "    range(1,len(pca1.explained_variance_ )+1),\n",
        "    np.cumsum(pca1.explained_variance_),\n",
        "    c='red',\n",
        "    label='Cumulative Explained Variance')\n",
        " \n",
        "plt.legend(loc='lower right')\n",
        "plt.xlabel('Number of components')\n",
        "plt.ylabel('Explained variance (eignenvalues)')\n",
        "plt.title('Scree plot')\n",
        " \n",
        "plt.show()"
      ],
      "metadata": {
        "colab": {
          "base_uri": "https://localhost:8080/",
          "height": 301
        },
        "id": "TphFfkls6460",
        "outputId": "f51c4a1c-6eb8-4620-9af1-87ad3834c333"
      },
      "execution_count": 5,
      "outputs": [
        {
          "output_type": "display_data",
          "data": {
            "text/plain": [
              "<Figure size 432x288 with 1 Axes>"
            ],
            "image/png": "[encoded data removed]"
          },
          "metadata": {}
        }
      ]
    },
    {
      "cell_type": "markdown",
      "source": [
        "Iz grafa je vidljivo da je gotovo sva varijanca obuhvaćena sa 150 značajki - taj smo rezultat očekivali jer je tako i u članku. Znači da možemo nastaviti rad s podacima tako da smanjimo 278 značajki na njih 150."
      ],
      "metadata": {
        "id": "QiI3TL_M9gxC"
      }
    },
    {
      "cell_type": "code",
      "source": [
        "#sada trebamo podijeliti originalni dataset na train i test grupe, u članku se koristi 125 testnih primjera pa ćemo i mi tako\n",
        "\n",
        "X_train, X_test, y_train, y_test = train_test_split(X, y, test_size = 125)\n",
        "\n",
        "#trebamo ih i standardizirati, pritom pazeći na fit i transform za train i test\n",
        "\n",
        "sc = StandardScaler()\n",
        "  \n",
        "X_train = sc.fit_transform(X_train)\n",
        "X_test = sc.transform(X_test)\n",
        "\n",
        "#na kraju, prije primjene ML algoritama smanjujemo dimenzionalnost na 150 značajki\n",
        "pca = PCA(n_components = 150)\n",
        "  \n",
        "X_train = pca.fit_transform(X_train)\n",
        "X_test = pca.transform(X_test)\n",
        "\n",
        "print(X_train.shape)\n",
        "print(X_test.shape)"
      ],
      "metadata": {
        "colab": {
          "base_uri": "https://localhost:8080/"
        },
        "id": "vXsdjbUH38lw",
        "outputId": "593237aa-6e9b-4d60-ecd2-2e24130130f8"
      },
      "execution_count": 35,
      "outputs": [
        {
          "output_type": "stream",
          "name": "stdout",
          "text": [
            "(327, 150)\n",
            "(125, 150)\n"
          ]
        }
      ]
    },
    {
      "cell_type": "markdown",
      "source": [
        "Sada možemo koristiti dobiveni dataset za klasifikaciju. Koristimo sljedeće algoritme: SVM, K-nn, logističku regresiju i random forest algoritam."
      ],
      "metadata": {
        "id": "5ZCKSDsOl0jY"
      }
    },
    {
      "cell_type": "markdown",
      "source": [
        "Za nalaženje optimalnih parametara koristimo ugrađenu implementaciju iz `sklearn.model_selection` - GridSearchCV."
      ],
      "metadata": {
        "id": "tH5dR7JYmCY1"
      }
    },
    {
      "cell_type": "code",
      "source": [
        "#SVM kao klasifikator - hiperparametri su jezgra, C, gama\n",
        "\n",
        "from sklearn.model_selection import GridSearchCV\n",
        "import warnings\n",
        "warnings.filterwarnings('ignore')\n",
        "\n",
        "parameters = {'kernel':('linear', 'rbf'), 'C':[1, 2, 3, 4, 5, 6, 7, 8, 9, 10, 11, 12, 13], 'gamma': [0.1, 0.01, 0.001, 0.0009, 0.0005, 0.0001]}\n",
        "svm = SVC()\n",
        "\n",
        "svm_gs = GridSearchCV(svm, parameters)\n",
        "svm_gs.fit(X_train, y_train)\n",
        "GridSearchCV(estimator=SVC(), param_grid=parameters, scoring='accuracy', cv=10)\n",
        "\n",
        "print(\"najbolji hiperparametri: \", svm_gs.best_params_)\n",
        "print(\"accuracy s najboljim parametrima: \", svm_gs.best_score_)\n"
      ],
      "metadata": {
        "colab": {
          "base_uri": "https://localhost:8080/"
        },
        "id": "jVKWhJ1ZMfGj",
        "outputId": "d35fdee8-6a7f-4989-e6d5-dcfae9f8a70e"
      },
      "execution_count": 36,
      "outputs": [
        {
          "output_type": "stream",
          "name": "stdout",
          "text": [
            "najbolji hiperparametri:  {'C': 13, 'gamma': 0.0005, 'kernel': 'rbf'}\n",
            "accuracy s najboljim parametrima:  0.730955710955711\n"
          ]
        }
      ]
    },
    {
      "cell_type": "code",
      "source": [
        "#K-nn kao klasifikator - hiperparametar je k (broj susjeda)\n",
        "from sklearn.neighbors import KNeighborsClassifier\n",
        "\n",
        "knn = KNeighborsClassifier()\n",
        "k_range = list(range(1, 31))\n",
        "parameters = dict(n_neighbors=k_range)\n",
        "\n",
        "knn_gs = GridSearchCV(knn, parameters, cv=10, scoring='accuracy')\n",
        "\n",
        "knn_gs.fit(X_train, y_train)\n",
        "\n",
        "print(\"najbolji hiperparametri: \", knn_gs.best_params_)\n",
        "print(\"accuracy s najboljim parametrima: \", knn_gs.best_score_)"
      ],
      "metadata": {
        "colab": {
          "base_uri": "https://localhost:8080/"
        },
        "id": "PdC7J3EIPow2",
        "outputId": "5945b24c-dfd1-44c8-a0da-0ab0b1bb06ea"
      },
      "execution_count": 37,
      "outputs": [
        {
          "output_type": "stream",
          "name": "stdout",
          "text": [
            "najbolji hiperparametri:  {'n_neighbors': 3}\n",
            "accuracy s najboljim parametrima:  0.6146780303030303\n"
          ]
        }
      ]
    },
    {
      "cell_type": "code",
      "source": [
        "#Logistička regresija kao klasifikator - hiperparametri su regularizacija (penalty), C, solver\n",
        "parameters = {'penalty': ['l1','l2'], 'C': np.logspace(-3,3,7), 'solver': ['newton-cg', 'lbfgs', 'liblinear']}\n",
        "\n",
        "logreg = LogisticRegression()\n",
        "logreg_gs = GridSearchCV(logreg, param_grid = parameters, scoring='accuracy', cv=10)\n",
        "\n",
        "logreg_gs.fit(X_train, y_train)\n",
        "\n",
        "print(\"najbolji hiperparametri: \", logreg_gs.best_params_)\n",
        "print(\"accuracy s najboljim parametrima: \", logreg_gs.best_score_)"
      ],
      "metadata": {
        "colab": {
          "base_uri": "https://localhost:8080/"
        },
        "id": "bMsdZgQdQ30N",
        "outputId": "11fe6232-8887-48fc-a800-48ecb721c028"
      },
      "execution_count": 38,
      "outputs": [
        {
          "output_type": "stream",
          "name": "stdout",
          "text": [
            "najbolji hiperparametri:  {'C': 0.1, 'penalty': 'l2', 'solver': 'newton-cg'}\n",
            "accuracy s najboljim parametrima:  0.7036931818181819\n"
          ]
        }
      ]
    },
    {
      "cell_type": "code",
      "source": [
        "#Random forest algoritam kao klasifikator - ima puno hiperparametara - max dubinu, criterion, min broj listova, broj stabala (n_estimatora)\n",
        "rfc=RandomForestClassifier()\n",
        "#parameters = {'n_estimators': [10, 20, 30, 40], 'max_features': ['sqrt', 'log2'], 'max_depth' : [6, 7, 8, 9], 'criterion' :['gini', 'entropy', 'log_loss'], 'min_samples_leaf':[1, 2, 3]} # daje 0.59 accuracy s najboljim parametrima\n",
        "parameters={'max_depth':[100, 150, 200, 250], 'n_estimators':[10, 20, 30, 40, 50], 'min_samples_leaf':[1, 2, 3, 4]}\n",
        "rfc_gs = GridSearchCV(estimator=rfc, param_grid=parameters, cv=10)\n",
        "rfc_gs.fit(X_train, y_train)\n",
        "\n",
        "print(\"najbolji hiperparametri: \", rfc_gs.best_params_)\n",
        "print(\"accuracy s najboljim parametrima: \", rfc_gs.best_score_)"
      ],
      "metadata": {
        "colab": {
          "base_uri": "https://localhost:8080/"
        },
        "id": "syr7BV7cTW5j",
        "outputId": "79470073-9a69-4d9b-d6df-4e95d42513cd"
      },
      "execution_count": 39,
      "outputs": [
        {
          "output_type": "stream",
          "name": "stdout",
          "text": [
            "najbolji hiperparametri:  {'max_depth': 250, 'min_samples_leaf': 1, 'n_estimators': 40}\n",
            "accuracy s najboljim parametrima:  0.5933712121212121\n"
          ]
        }
      ]
    },
    {
      "cell_type": "markdown",
      "source": [
        "Prikazat ćemo uspješnost klasifikatora na test datasetu."
      ],
      "metadata": {
        "id": "xbPo24Nvwkn7"
      }
    },
    {
      "cell_type": "code",
      "source": [
        "svm_t = SVC(C = 13, kernel = 'rbf', gamma = 0.0005).fit(X_train, y_train)\n",
        "\n",
        "knn_t = KNeighborsClassifier(n_neighbors=3).fit(X_train, y_train)\n",
        "\n",
        "logreg_t = LogisticRegression(C= 0.1, penalty = 'l2', solver = 'newton-cg').fit(X_train, y_train)\n",
        "\n",
        "rfc_t = RandomForestClassifier(max_depth = 250, min_samples_leaf = 1, n_estimators = 40).fit(X_train, y_train)\n",
        "\n",
        "svm_pred = svm_t.predict(X_test)\n",
        "knn_pred = knn_t.predict(X_test)\n",
        "logreg_pred = logreg_t.predict(X_test)\n",
        "rfc_pred = rfc_t.predict(X_test)\n",
        "\n",
        "svm_acc = accuracy_score(y_test, svm_pred)\n",
        "knn_acc = accuracy_score(y_test, knn_pred)\n",
        "logreg_acc = accuracy_score(y_test, logreg_pred)\n",
        "rfc_acc = accuracy_score(y_test, rfc_pred)\n",
        "\n",
        "bar_data = dict()\n",
        "bar_data['SVM'] = int(svm_acc*125)\n",
        "bar_data['KNN'] = int(knn_acc*125)\n",
        "bar_data['RF'] = int(rfc_acc*125)\n",
        "bar_data['LR'] = int(logreg_acc*125)\n",
        "\n",
        "algs = list(bar_data.keys())\n",
        "values = list(bar_data.values())\n",
        "  \n",
        "fig = plt.figure(figsize = (10, 5))\n",
        "plt.ylim(top=125)\n",
        "plt.bar(algs, values, color ='maroon',\n",
        "        width = 0.4)\n",
        " \n",
        "plt.xlabel(\"ML algoritmi\")\n",
        "plt.ylabel(\"br. točno klasificiranih primjera od 125\")\n",
        "plt.title(\"Uspješnost klasifikacije ML algoritama\")\n",
        "plt.show()\n"
      ],
      "metadata": {
        "colab": {
          "base_uri": "https://localhost:8080/",
          "height": 355
        },
        "id": "4CS1_2S1wsh_",
        "outputId": "1c8d0694-17b0-4d90-b302-817e07a63e8a"
      },
      "execution_count": 40,
      "outputs": [
        {
          "output_type": "display_data",
          "data": {
            "text/plain": [
              "<Figure size 720x360 with 1 Axes>"
            ],
            "image/png": "[encoded data removed]"
          },
          "metadata": {}
        }
      ]
    }
  ]
}